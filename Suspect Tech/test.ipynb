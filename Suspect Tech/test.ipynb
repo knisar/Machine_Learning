{
 "cells": [
  {
   "cell_type": "code",
   "execution_count": 1,
   "metadata": {
    "collapsed": true
   },
   "outputs": [],
   "source": [
    "import numpy as np"
   ]
  },
  {
   "cell_type": "code",
   "execution_count": 26,
   "metadata": {},
   "outputs": [
    {
     "ename": "ValueError",
     "evalue": "operands could not be broadcast together with shapes (3,2,3) (3,3,3) ",
     "output_type": "error",
     "traceback": [
      "\u001b[1;31m---------------------------------------------------------------------------\u001b[0m",
      "\u001b[1;31mValueError\u001b[0m                                Traceback (most recent call last)",
      "\u001b[1;32m<ipython-input-26-ff01b0dab004>\u001b[0m in \u001b[0;36m<module>\u001b[1;34m()\u001b[0m\n\u001b[0;32m     24\u001b[0m             np_o[0, j, _w, z] = np.sum(\n\u001b[0;32m     25\u001b[0m                 \u001b[0mi\u001b[0m\u001b[1;33m[\u001b[0m\u001b[1;36m0\u001b[0m\u001b[1;33m,\u001b[0m \u001b[0mj\u001b[0m \u001b[1;33m*\u001b[0m \u001b[0mstride\u001b[0m\u001b[1;33m:\u001b[0m\u001b[0mj\u001b[0m \u001b[1;33m*\u001b[0m \u001b[0mstride\u001b[0m \u001b[1;33m+\u001b[0m \u001b[0mf\u001b[0m\u001b[1;33m,\u001b[0m \u001b[0m_w\u001b[0m \u001b[1;33m*\u001b[0m \u001b[0mstride\u001b[0m\u001b[1;33m:\u001b[0m\u001b[0m_w\u001b[0m \u001b[1;33m*\u001b[0m \u001b[0mstride\u001b[0m \u001b[1;33m+\u001b[0m \u001b[0mf\u001b[0m\u001b[1;33m,\u001b[0m \u001b[1;33m:\u001b[0m\u001b[1;33m]\u001b[0m \u001b[1;33m*\u001b[0m\u001b[1;33m\u001b[0m\u001b[0m\n\u001b[1;32m---> 26\u001b[1;33m                 w[:, :, :, z])\n\u001b[0m\u001b[0;32m     27\u001b[0m \u001b[1;33m\u001b[0m\u001b[0m\n\u001b[0;32m     28\u001b[0m \u001b[1;31m# print(\"np_o0:\\n\", np_o[0, :, :, 0])\u001b[0m\u001b[1;33m\u001b[0m\u001b[1;33m\u001b[0m\u001b[0m\n",
      "\u001b[1;31mValueError\u001b[0m: operands could not be broadcast together with shapes (3,2,3) (3,3,3) "
     ]
    }
   ],
   "source": [
    "i = np.empty((32,32,3))  # input\n",
    "stride = 2\n",
    "padding = 1\n",
    "depth = 3\n",
    "f = 3  # Filter Size\n",
    "weights = []\n",
    "np_o = np.zeros((1, 16, 16, 4))\n",
    "i = np.reshape(i, (1, 32, 32, 3))\n",
    "w = np.zeros((3, 3, 3, 2))\n",
    "w[:, :, 0, 0] = np.mat(\"0 0 1;-1 1 1;0 1 0\").A\n",
    "w[:, :, 1, 0] = np.mat(\"1 1 1;0 1 1;0 1 0\").A\n",
    "w[:, :, 2, 0] = np.mat(\"-1 0 0;-1 1 1;0 -1 0\").A\n",
    "\n",
    "# w1 = np.zeros((3,3,3))\n",
    "w[:, :, 0, 1] = np.mat(\"0 0 0;1 1 -1;-1 1 1\").A\n",
    "w[:, :, 1, 1] = np.mat(\"0 1 -1;1 1 -1;-1 1 -1\").A\n",
    "w[:, :, 2, 1] = np.mat(\"1 1 0;-1 -1 0;0 -1 1\").A\n",
    "\n",
    "for z in range(4):\n",
    "    h = int((i.shape[2] - f) / stride + 2*padding) + 1  # (W - F + 2P) / S\n",
    "    for j in range(h):\n",
    "        w_range = int((i.shape[1] - f + 2*padding) / stride) + 1  # (W - F + 2P) / S\n",
    "        for _w in range(w_range):\n",
    "            np_o[0, j, _w, z] = np.sum(\n",
    "                i[0, j * stride:j * stride + f, _w * stride:_w * stride + f, :] *\n",
    "                w[:, :, :, z])\n",
    "\n",
    "# print(\"np_o0:\\n\", np_o[0, :, :, 0])\n",
    "# print(\"np_o1:\\n\", np_o[0, :, :, 1])"
   ]
  },
  {
   "cell_type": "code",
   "execution_count": 14,
   "metadata": {},
   "outputs": [
    {
     "data": {
      "text/plain": [
       "2"
      ]
     },
     "execution_count": 14,
     "metadata": {},
     "output_type": "execute_result"
    }
   ],
   "source": [
    "i"
   ]
  }
 ],
 "metadata": {
  "kernelspec": {
   "display_name": "Python 3",
   "language": "python",
   "name": "python3"
  },
  "language_info": {
   "codemirror_mode": {
    "name": "ipython",
    "version": 3
   },
   "file_extension": ".py",
   "mimetype": "text/x-python",
   "name": "python",
   "nbconvert_exporter": "python",
   "pygments_lexer": "ipython3",
   "version": "3.6.3"
  }
 },
 "nbformat": 4,
 "nbformat_minor": 2
}
